{
 "cells": [
  {
   "cell_type": "code",
   "execution_count": 1,
   "metadata": {},
   "outputs": [],
   "source": [
    "from tensorflow.keras.models import load_model\n",
    "import cv2\n",
    "import numpy as np"
   ]
  },
  {
   "cell_type": "code",
   "execution_count": 2,
   "metadata": {},
   "outputs": [
    {
     "name": "stderr",
     "output_type": "stream",
     "text": [
      "WARNING:absl:Compiled the loaded model, but the compiled metrics have yet to be built. `model.compile_metrics` will be empty until you train or evaluate the model.\n",
      "WARNING:absl:Compiled the loaded model, but the compiled metrics have yet to be built. `model.compile_metrics` will be empty until you train or evaluate the model.\n",
      "WARNING:absl:Compiled the loaded model, but the compiled metrics have yet to be built. `model.compile_metrics` will be empty until you train or evaluate the model.\n",
      "WARNING:absl:Compiled the loaded model, but the compiled metrics have yet to be built. `model.compile_metrics` will be empty until you train or evaluate the model.\n"
     ]
    }
   ],
   "source": [
    "# Load the trained model\n",
    "pin_model = load_model('pin_cotter_model.h5')\n",
    "hex_nut_model = load_model('hex_nut_model.h5')\n",
    "nut_hex_model = load_model('nut_hex_model.h5')\n",
    "plug_model = load_model('eze_plug_model.h5')"
   ]
  },
  {
   "cell_type": "code",
   "execution_count": 6,
   "metadata": {},
   "outputs": [
    {
     "name": "stdout",
     "output_type": "stream",
     "text": [
      "\u001b[1m1/1\u001b[0m \u001b[32m━━━━━━━━━━━━━━━━━━━━\u001b[0m\u001b[37m\u001b[0m \u001b[1m0s\u001b[0m 33ms/step\n",
      "Predicted: Pin is Present\n",
      "\u001b[1m1/1\u001b[0m \u001b[32m━━━━━━━━━━━━━━━━━━━━\u001b[0m\u001b[37m\u001b[0m \u001b[1m0s\u001b[0m 41ms/step\n",
      "Predicted: Hex Nut is Okay\n",
      "\u001b[1m1/1\u001b[0m \u001b[32m━━━━━━━━━━━━━━━━━━━━\u001b[0m\u001b[37m\u001b[0m \u001b[1m0s\u001b[0m 50ms/step\n",
      "Predicted: Nut Hex is Okay\n",
      "\u001b[1m1/1\u001b[0m \u001b[32m━━━━━━━━━━━━━━━━━━━━\u001b[0m\u001b[37m\u001b[0m \u001b[1m0s\u001b[0m 33ms/step\n",
      "Predicted: Plug is Present\n"
     ]
    }
   ],
   "source": [
    "# Function to predict image orientation\n",
    "def pin_check(image_path):\n",
    "    img = cv2.imread(image_path)\n",
    "    coordinates= {\"x\": 875.0, \"y\": 3842.0, \"width\": 385.0, \"height\": 440.0}\n",
    "    x, y, width, height = int(coordinates['x']), int(coordinates['y']), int(coordinates['width']), int(coordinates['height'])\n",
    "    roi = img[y:y + height, x:x + width]\n",
    "    roi_resized = cv2.resize(roi, (224, 224))\n",
    "    roi_resized = roi_resized / 255.0  # Normalize\n",
    "\n",
    "    prediction = pin_model.predict(np.expand_dims(roi_resized, axis=0))\n",
    "    predicted_class = np.argmax(prediction, axis=1)\n",
    "\n",
    "    return 'Pin is Present' if predicted_class == 1 else 'Pin is Not Present'\n",
    "\n",
    "\n",
    "def hex_nut_check(image_path):\n",
    "    img = cv2.imread(image_path)\n",
    "    coordinates= {\"x\": 962.5, \"y\": 3209.5, \"width\": 400.0, \"height\": 315.0}\n",
    "    x, y, width, height = int(coordinates['x']), int(coordinates['y']), int(coordinates['width']), int(coordinates['height'])\n",
    "    roi = img[y:y + height, x:x + width]\n",
    "    roi_resized = cv2.resize(roi, (224, 224))\n",
    "    roi_resized = roi_resized / 255.0  # Normalize\n",
    "\n",
    "    prediction = hex_nut_model.predict(np.expand_dims(roi_resized, axis=0))\n",
    "    predicted_class = np.argmax(prediction, axis=1)\n",
    "\n",
    "    return 'Hex Nut is Okay' if predicted_class == 1 else 'Hex nut is Not Okay'\n",
    "\n",
    "\n",
    "\n",
    "def nut_hex_check(image_path):\n",
    "    img = cv2.imread(image_path)\n",
    "    coordinates= {\"x\": 523.0, \"y\": 2180.0, \"width\": 385.0, \"height\": 649.9999999999998}\n",
    "    x, y, width, height = int(coordinates['x']), int(coordinates['y']), int(coordinates['width']), int(coordinates['height'])\n",
    "    roi = img[y:y + height, x:x + width]\n",
    "    roi_resized = cv2.resize(roi, (224, 224))\n",
    "    roi_resized = roi_resized / 255.0  # Normalize\n",
    "\n",
    "    prediction = nut_hex_model.predict(np.expand_dims(roi_resized, axis=0))\n",
    "    predicted_class = np.argmax(prediction, axis=1)\n",
    "\n",
    "    return 'Nut Hex is Okay' if predicted_class == 1 else 'Nut Hex is not Okay'\n",
    "\n",
    "\n",
    "def plug_check(image_path):\n",
    "    img = cv2.imread(image_path)\n",
    "    coordinates= {\"x\": 647.5, \"y\": 797.0000000000002, \"width\": 500.0, \"height\": 490.0}\n",
    "    x, y, width, height = int(coordinates['x']), int(coordinates['y']), int(coordinates['width']), int(coordinates['height'])\n",
    "    roi = img[y:y + height, x:x + width]\n",
    "    roi_resized = cv2.resize(roi, (224, 224))\n",
    "    roi_resized = roi_resized / 255.0  # Normalize\n",
    "\n",
    "    prediction = plug_model.predict(np.expand_dims(roi_resized, axis=0))\n",
    "    predicted_class = np.argmax(prediction, axis=1)\n",
    "\n",
    "    return 'Plug is Present' if predicted_class == 1 else 'Plug is Not Present'\n",
    "\n",
    "\n",
    "# Example \n",
    "#coordinates_trial= {'x': 460.0, 'y': 1050.0, 'width': 460.0, 'height': 470.0}\n",
    "image_path = 'D:/ANAND Project/Haldex Break Chember TY24/TYP24/IMG_20241015_165056_004.jpg'\n",
    "result = pin_check(image_path)\n",
    "print(f'Predicted: {result}')\n",
    "result = hex_nut_check(image_path)\n",
    "print(f'Predicted: {result}')\n",
    "result = nut_hex_check(image_path)\n",
    "print(f'Predicted: {result}')\n",
    "result = plug_check(image_path)  \n",
    "print(f'Predicted: {result}')\n",
    "#Currently we are passing the coordinates, we wil set the coordinates after the fixed angle images.\n",
    "\n",
    "\n",
    "\n"
   ]
  },
  {
   "cell_type": "markdown",
   "metadata": {},
   "source": [
    "**# Code for Box**"
   ]
  },
  {
   "cell_type": "code",
   "execution_count": 1,
   "metadata": {},
   "outputs": [],
   "source": [
    "from tensorflow.keras.models import load_model\n",
    "import cv2\n",
    "import numpy as np"
   ]
  },
  {
   "cell_type": "code",
   "execution_count": 2,
   "metadata": {},
   "outputs": [
    {
     "name": "stderr",
     "output_type": "stream",
     "text": [
      "WARNING:absl:Compiled the loaded model, but the compiled metrics have yet to be built. `model.compile_metrics` will be empty until you train or evaluate the model.\n",
      "WARNING:absl:Compiled the loaded model, but the compiled metrics have yet to be built. `model.compile_metrics` will be empty until you train or evaluate the model.\n",
      "WARNING:absl:Compiled the loaded model, but the compiled metrics have yet to be built. `model.compile_metrics` will be empty until you train or evaluate the model.\n",
      "WARNING:absl:Compiled the loaded model, but the compiled metrics have yet to be built. `model.compile_metrics` will be empty until you train or evaluate the model.\n"
     ]
    }
   ],
   "source": [
    "# Load the trained models\n",
    "pin_model = load_model('pin_cotter_model.h5')\n",
    "hex_nut_model = load_model('hex_nut_model.h5')\n",
    "nut_hex_model = load_model('nut_hex_model.h5')\n",
    "plug_model = load_model('eze_plug_model.h5')\n"
   ]
  },
  {
   "cell_type": "code",
   "execution_count": 5,
   "metadata": {},
   "outputs": [
    {
     "name": "stdout",
     "output_type": "stream",
     "text": [
      "\u001b[1m1/1\u001b[0m \u001b[32m━━━━━━━━━━━━━━━━━━━━\u001b[0m\u001b[37m\u001b[0m \u001b[1m0s\u001b[0m 50ms/step\n",
      "\u001b[1m1/1\u001b[0m \u001b[32m━━━━━━━━━━━━━━━━━━━━\u001b[0m\u001b[37m\u001b[0m \u001b[1m0s\u001b[0m 100ms/step\n",
      "\u001b[1m1/1\u001b[0m \u001b[32m━━━━━━━━━━━━━━━━━━━━\u001b[0m\u001b[37m\u001b[0m \u001b[1m0s\u001b[0m 97ms/step\n",
      "\u001b[1m1/1\u001b[0m \u001b[32m━━━━━━━━━━━━━━━━━━━━\u001b[0m\u001b[37m\u001b[0m \u001b[1m0s\u001b[0m 85ms/step\n",
      "Annotated image saved at D:/ANAND Project/Haldex Break Chember TY24/TYP24/IMG_Annotated.jpg\n"
     ]
    }
   ],
   "source": [
    "\n",
    "# Function to predict and annotate image with bounding box and prediction accuracy\n",
    "def predict_and_draw(image, model, coordinates, label):\n",
    "    x, y, width, height = int(coordinates['x']), int(coordinates['y']), int(coordinates['width']), int(coordinates['height'])\n",
    "    roi = image[y:y + height, x:x + width]\n",
    "    roi_resized = cv2.resize(roi, (224, 224))\n",
    "    roi_resized = roi_resized / 255.0  # Normalize\n",
    "\n",
    "    prediction = model.predict(np.expand_dims(roi_resized, axis=0))\n",
    "    confidence = np.max(prediction) * 100  # Calculate confidence as a percentage\n",
    "    predicted_class = np.argmax(prediction, axis=1)\n",
    "\n",
    "    # Determine label based on prediction\n",
    "    display_text = f'{label}: {\"Okay\" if predicted_class == 1 else \"Not Okay\"} ({confidence:.2f}%)'\n",
    "\n",
    "    # Draw bounding box and label on the image\n",
    "    color = (0, 255, 0) if predicted_class == 1 else (0, 0, 255)  # Green for OK, Red for Not OK\n",
    "    cv2.rectangle(image, (x, y), (x + width, y + height), color, 2)\n",
    "    cv2.putText(image, display_text, (x, y - 10), cv2.FONT_HERSHEY_SIMPLEX, 0.6, color, 2)\n",
    "\n",
    "# Coordinates for each component\n",
    "pin_coordinates = {'x': 868.0, 'y': 3321.0, 'width': 396.0, 'height': 456.0}\n",
    "hex_nut_coordinates = {'x': 952.0, 'y': 2699.0, 'width': 348.0, 'height': 404.0}\n",
    "nut_hex_coordinates = {'x': 1560.0, 'y': 1803.0, 'width': 488.0, 'height': 464.0}\n",
    "plug_coordinates = {'x': 670.0, 'y': 353.0, 'width': 300.0, 'height': 470.0}\n",
    "\n",
    "# Image path\n",
    "image_path = 'D:/ANAND Project/Haldex Break Chember TY24/Final Models/IMG_20241015_165056_006.jpg'\n",
    "\n",
    "# Load image\n",
    "img = cv2.imread(image_path)\n",
    "\n",
    "# Predict and draw boxes for each component\n",
    "predict_and_draw(img, pin_model, pin_coordinates, 'Pin')\n",
    "predict_and_draw(img, hex_nut_model, hex_nut_coordinates, 'Hex Nut')\n",
    "predict_and_draw(img, nut_hex_model, nut_hex_coordinates, 'Nut Hex')\n",
    "predict_and_draw(img, plug_model, plug_coordinates, 'Plug')\n",
    "\n",
    "# Display the result\n",
    "cv2.imshow('Predictions', img)\n",
    "cv2.waitKey(0)\n",
    "cv2.destroyAllWindows()\n",
    "\n",
    "# Optionally save the annotated image\n",
    "output_path = 'D:/ANAND Project/Haldex Break Chember TY24/TYP24/IMG_Annotated.jpg'\n",
    "cv2.imwrite(output_path, img)\n",
    "print(f'Annotated image saved at {output_path}')\n"
   ]
  },
  {
   "cell_type": "code",
   "execution_count": null,
   "metadata": {},
   "outputs": [],
   "source": []
  }
 ],
 "metadata": {
  "kernelspec": {
   "display_name": "Python 3",
   "language": "python",
   "name": "python3"
  },
  "language_info": {
   "codemirror_mode": {
    "name": "ipython",
    "version": 3
   },
   "file_extension": ".py",
   "mimetype": "text/x-python",
   "name": "python",
   "nbconvert_exporter": "python",
   "pygments_lexer": "ipython3",
   "version": "3.12.3"
  }
 },
 "nbformat": 4,
 "nbformat_minor": 2
}
